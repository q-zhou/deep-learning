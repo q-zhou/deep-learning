{
  "nbformat": 4,
  "nbformat_minor": 0,
  "metadata": {
    "kernelspec": {
      "name": "python3",
      "display_name": "Python 3"
    },
    "language_info": {
      "codemirror_mode": {
        "name": "ipython",
        "version": 3
      },
      "file_extension": ".py",
      "mimetype": "text/x-python",
      "name": "python",
      "nbconvert_exporter": "python",
      "pygments_lexer": "ipython3",
      "version": "3.7.3"
    },
    "colab": {
      "name": "CNN Regression - In-class.ipynb",
      "provenance": [],
      "collapsed_sections": []
    },
    "accelerator": "GPU"
  },
  "cells": [
    {
      "cell_type": "markdown",
      "metadata": {
        "id": "S4ZqSIAn5Ln5",
        "colab_type": "text"
      },
      "source": [
        "## **OPIM 5509: Introduction to Deep Learning**\n",
        "### * Homework #2: Weather Forecast CNN\n",
        "### * Author: Qi Zhou"
      ]
    },
    {
      "cell_type": "code",
      "metadata": {
        "id": "tiQOr2L5Dlcb",
        "colab_type": "code",
        "outputId": "d0d30c97-d005-4534-dcfe-cdb8607c3d48",
        "colab": {
          "base_uri": "https://localhost:8080/",
          "height": 126
        }
      },
      "source": [
        "from google.colab import drive\n",
        "drive.mount('/content/drive')"
      ],
      "execution_count": 8,
      "outputs": [
        {
          "output_type": "stream",
          "text": [
            "Go to this URL in a browser: https://accounts.google.com/o/oauth2/auth?client_id=947318989803-6bn6qk8qdgf4n4g3pfee6491hc0brc4i.apps.googleusercontent.com&redirect_uri=urn%3aietf%3awg%3aoauth%3a2.0%3aoob&response_type=code&scope=email%20https%3a%2f%2fwww.googleapis.com%2fauth%2fdocs.test%20https%3a%2f%2fwww.googleapis.com%2fauth%2fdrive%20https%3a%2f%2fwww.googleapis.com%2fauth%2fdrive.photos.readonly%20https%3a%2f%2fwww.googleapis.com%2fauth%2fpeopleapi.readonly\n",
            "\n",
            "Enter your authorization code:\n",
            "··········\n",
            "Mounted at /content/drive\n"
          ],
          "name": "stdout"
        }
      ]
    },
    {
      "cell_type": "markdown",
      "metadata": {
        "id": "gj8Uuxf25u3H",
        "colab_type": "text"
      },
      "source": [
        "### Packages Setup"
      ]
    },
    {
      "cell_type": "code",
      "metadata": {
        "id": "UAqNK0Z9DhZa",
        "colab_type": "code",
        "colab": {}
      },
      "source": [
        "# import general necessary packages\n",
        "import pandas as pd\n",
        "import tensorflow as tf\n",
        "import numpy as np\n",
        "import matplotlib.pyplot as plt\n",
        "import os, cv2\n",
        "# import the necessary packages -- cnn_regression\n",
        "from keras.models import Sequential\n",
        "from keras.layers.convolutional import Conv2D\n",
        "from keras.layers.convolutional import MaxPooling2D\n",
        "from keras.layers.core import Activation\n",
        "from keras.layers.core import Dropout\n",
        "from keras.layers.core import Dense\n",
        "from keras.layers import Flatten\n",
        "from keras.layers import Input\n",
        "from keras.models import Model\n",
        "from keras.optimizers import Adam, RMSprop\n",
        "from numpy.random import seed\n",
        "from tensorflow import set_random_seed\n",
        "from numpy import savez_compressed\n",
        "from keras.callbacks import EarlyStopping\n"
      ],
      "execution_count": 0,
      "outputs": []
    },
    {
      "cell_type": "markdown",
      "metadata": {
        "id": "S5IDDrVw8fHC",
        "colab_type": "text"
      },
      "source": [
        "# **Part 1: ConvNets Prediction for Wind Speed**"
      ]
    },
    {
      "cell_type": "markdown",
      "metadata": {
        "id": "aa6kBQ5X536c",
        "colab_type": "text"
      },
      "source": [
        "### 1.1 Prepare the Data"
      ]
    },
    {
      "cell_type": "markdown",
      "metadata": {
        "id": "b-xStPdMr_ML",
        "colab_type": "text"
      },
      "source": [
        "#### 1) Image Data of Maps"
      ]
    },
    {
      "cell_type": "code",
      "metadata": {
        "id": "9YL9yRUdosp2",
        "colab_type": "code",
        "colab": {}
      },
      "source": [
        "#1: separate images into train, val, and test\n",
        "path = \"/content/drive/My Drive/Deep Learning/Week 2/Weather Prediction/\"\n",
        "train_dir = path + \"Train/\"\n",
        "val_dir = path + \"Validation/\"\n",
        "test_dir = path + \"Test/\"\n",
        "result = path + \"Models/\""
      ],
      "execution_count": 0,
      "outputs": []
    },
    {
      "cell_type": "code",
      "metadata": {
        "id": "whWQxzMdmk0O",
        "colab_type": "code",
        "colab": {}
      },
      "source": [
        "#2: convert images into numpy array \n",
        "# load image train data\n",
        "x_train_images = []\n",
        "# make sure to read it in order\n",
        "for image_path in sorted(os.listdir(train_dir)):\n",
        "  img_path = train_dir + image_path\n",
        "  image = cv2.imread(img_path)\n",
        "  x_train_images.append(image)\n",
        "x_train = np.array(x_train_images)"
      ],
      "execution_count": 0,
      "outputs": []
    },
    {
      "cell_type": "code",
      "metadata": {
        "id": "wmLp4NWDV0_g",
        "colab_type": "code",
        "colab": {}
      },
      "source": [
        "# load image validation data\n",
        "x_val_images = []\n",
        "# make sure to read it in order\n",
        "for image_path in sorted(os.listdir(val_dir)):\n",
        "  img_path = val_dir + image_path\n",
        "  image = cv2.imread(img_path)\n",
        "  x_val_images.append(image)\n",
        "x_val = np.array(x_val_images)"
      ],
      "execution_count": 0,
      "outputs": []
    },
    {
      "cell_type": "code",
      "metadata": {
        "id": "0LC2534P6RHz",
        "colab_type": "code",
        "colab": {}
      },
      "source": [
        "# load image test data\n",
        "x_test_images = []\n",
        "# make sure to read it in order\n",
        "for image_path in sorted(os.listdir(test_dir)):\n",
        "  img_path = test_dir + image_path\n",
        "  image = cv2.imread(img_path)\n",
        "  x_test_images.append(image)\n",
        "x_test = np.array(x_test_images)"
      ],
      "execution_count": 0,
      "outputs": []
    },
    {
      "cell_type": "code",
      "metadata": {
        "id": "eWHRQDJ8gc7i",
        "colab_type": "code",
        "colab": {}
      },
      "source": [
        "# save loaded and converted image data \n",
        "savez_compressed(path+'train_data.npz', x_train)\n",
        "savez_compressed(path+'val_data.npz', x_val)\n",
        "savez_compressed(path+'test_data.npz', x_test)"
      ],
      "execution_count": 0,
      "outputs": []
    },
    {
      "cell_type": "code",
      "metadata": {
        "id": "C2Qm8kJgg88T",
        "colab_type": "code",
        "colab": {}
      },
      "source": [
        "# load image numpy array from npz file\n",
        "from numpy import load\n",
        "# load dict of arrays\n",
        "train_data = load(path+'train_data.npz')\n",
        "x_train = train_data['arr_0']\n",
        "val_data = load(path+'val_data.npz')\n",
        "x_val = val_data['arr_0']\n",
        "test_data = load(path+'test_data.npz')\n",
        "x_test = test_data['arr_0']"
      ],
      "execution_count": 0,
      "outputs": []
    },
    {
      "cell_type": "markdown",
      "metadata": {
        "id": "I2rywzuesCbz",
        "colab_type": "text"
      },
      "source": [
        "#### 2) Structured Data of Weather"
      ]
    },
    {
      "cell_type": "code",
      "metadata": {
        "id": "7Kf1p4TXR2Ym",
        "colab_type": "code",
        "outputId": "22756f04-3195-4461-80dc-d3014ba17162",
        "colab": {
          "base_uri": "https://localhost:8080/",
          "height": 194
        }
      },
      "source": [
        "# import weather data\n",
        "target_data = pd.read_csv(\"/content/drive/My Drive/Deep Learning/Week 2/Weather Prediction/model_ready.csv\")\n",
        "target_data.head()"
      ],
      "execution_count": 13,
      "outputs": [
        {
          "output_type": "execute_result",
          "data": {
            "text/html": [
              "<div>\n",
              "<style scoped>\n",
              "    .dataframe tbody tr th:only-of-type {\n",
              "        vertical-align: middle;\n",
              "    }\n",
              "\n",
              "    .dataframe tbody tr th {\n",
              "        vertical-align: top;\n",
              "    }\n",
              "\n",
              "    .dataframe thead th {\n",
              "        text-align: right;\n",
              "    }\n",
              "</style>\n",
              "<table border=\"1\" class=\"dataframe\">\n",
              "  <thead>\n",
              "    <tr style=\"text-align: right;\">\n",
              "      <th></th>\n",
              "      <th>valid</th>\n",
              "      <th>tmpf</th>\n",
              "      <th>drct</th>\n",
              "      <th>sknt</th>\n",
              "    </tr>\n",
              "  </thead>\n",
              "  <tbody>\n",
              "    <tr>\n",
              "      <th>0</th>\n",
              "      <td>2016-09-01 00:00:00</td>\n",
              "      <td>75.02</td>\n",
              "      <td>222.500000</td>\n",
              "      <td>5.125000</td>\n",
              "    </tr>\n",
              "    <tr>\n",
              "      <th>1</th>\n",
              "      <td>2016-09-01 01:00:00</td>\n",
              "      <td>73.94</td>\n",
              "      <td>202.857143</td>\n",
              "      <td>4.857143</td>\n",
              "    </tr>\n",
              "    <tr>\n",
              "      <th>2</th>\n",
              "      <td>2016-09-01 02:00:00</td>\n",
              "      <td>73.94</td>\n",
              "      <td>218.181818</td>\n",
              "      <td>4.272727</td>\n",
              "    </tr>\n",
              "    <tr>\n",
              "      <th>3</th>\n",
              "      <td>2016-09-01 03:00:00</td>\n",
              "      <td>73.94</td>\n",
              "      <td>204.444444</td>\n",
              "      <td>4.555556</td>\n",
              "    </tr>\n",
              "    <tr>\n",
              "      <th>4</th>\n",
              "      <td>2016-09-01 04:00:00</td>\n",
              "      <td>73.04</td>\n",
              "      <td>145.000000</td>\n",
              "      <td>2.700000</td>\n",
              "    </tr>\n",
              "  </tbody>\n",
              "</table>\n",
              "</div>"
            ],
            "text/plain": [
              "                 valid   tmpf        drct      sknt\n",
              "0  2016-09-01 00:00:00  75.02  222.500000  5.125000\n",
              "1  2016-09-01 01:00:00  73.94  202.857143  4.857143\n",
              "2  2016-09-01 02:00:00  73.94  218.181818  4.272727\n",
              "3  2016-09-01 03:00:00  73.94  204.444444  4.555556\n",
              "4  2016-09-01 04:00:00  73.04  145.000000  2.700000"
            ]
          },
          "metadata": {
            "tags": []
          },
          "execution_count": 13
        }
      ]
    },
    {
      "cell_type": "code",
      "metadata": {
        "id": "S1SlcWyem1zE",
        "colab_type": "code",
        "outputId": "0cb320e6-ec4c-446e-b776-6a87b2db392b",
        "colab": {
          "base_uri": "https://localhost:8080/",
          "height": 88
        }
      },
      "source": [
        "# convert to a timedate\n",
        "target_data['valid'] =  pd.to_datetime(target_data['valid'])\n",
        "# set timedate to index\n",
        "target_data = target_data.set_index('valid')\n",
        "target_data.isna().sum()"
      ],
      "execution_count": 14,
      "outputs": [
        {
          "output_type": "execute_result",
          "data": {
            "text/plain": [
              "tmpf    21\n",
              "drct     7\n",
              "sknt     3\n",
              "dtype: int64"
            ]
          },
          "metadata": {
            "tags": []
          },
          "execution_count": 14
        }
      ]
    },
    {
      "cell_type": "code",
      "metadata": {
        "id": "nqauWp88LHJ6",
        "colab_type": "code",
        "outputId": "b294d1f6-0eea-42d8-ed34-0c7e82fc8381",
        "colab": {
          "base_uri": "https://localhost:8080/",
          "height": 428
        }
      },
      "source": [
        "target_data[target_data.drct == 0]"
      ],
      "execution_count": 15,
      "outputs": [
        {
          "output_type": "execute_result",
          "data": {
            "text/html": [
              "<div>\n",
              "<style scoped>\n",
              "    .dataframe tbody tr th:only-of-type {\n",
              "        vertical-align: middle;\n",
              "    }\n",
              "\n",
              "    .dataframe tbody tr th {\n",
              "        vertical-align: top;\n",
              "    }\n",
              "\n",
              "    .dataframe thead th {\n",
              "        text-align: right;\n",
              "    }\n",
              "</style>\n",
              "<table border=\"1\" class=\"dataframe\">\n",
              "  <thead>\n",
              "    <tr style=\"text-align: right;\">\n",
              "      <th></th>\n",
              "      <th>tmpf</th>\n",
              "      <th>drct</th>\n",
              "      <th>sknt</th>\n",
              "    </tr>\n",
              "    <tr>\n",
              "      <th>valid</th>\n",
              "      <th></th>\n",
              "      <th></th>\n",
              "      <th></th>\n",
              "    </tr>\n",
              "  </thead>\n",
              "  <tbody>\n",
              "    <tr>\n",
              "      <th>2016-09-01 15:00:00</th>\n",
              "      <td>69.98</td>\n",
              "      <td>0.0</td>\n",
              "      <td>0.0</td>\n",
              "    </tr>\n",
              "    <tr>\n",
              "      <th>2016-09-04 00:00:00</th>\n",
              "      <td>62.96</td>\n",
              "      <td>0.0</td>\n",
              "      <td>0.0</td>\n",
              "    </tr>\n",
              "    <tr>\n",
              "      <th>2016-09-10 06:00:00</th>\n",
              "      <td>73.04</td>\n",
              "      <td>0.0</td>\n",
              "      <td>0.0</td>\n",
              "    </tr>\n",
              "    <tr>\n",
              "      <th>2016-09-12 09:00:00</th>\n",
              "      <td>51.08</td>\n",
              "      <td>0.0</td>\n",
              "      <td>0.0</td>\n",
              "    </tr>\n",
              "    <tr>\n",
              "      <th>2016-09-13 06:00:00</th>\n",
              "      <td>55.04</td>\n",
              "      <td>0.0</td>\n",
              "      <td>0.0</td>\n",
              "    </tr>\n",
              "    <tr>\n",
              "      <th>...</th>\n",
              "      <td>...</td>\n",
              "      <td>...</td>\n",
              "      <td>...</td>\n",
              "    </tr>\n",
              "    <tr>\n",
              "      <th>2017-08-24 10:00:00</th>\n",
              "      <td>57.90</td>\n",
              "      <td>0.0</td>\n",
              "      <td>0.0</td>\n",
              "    </tr>\n",
              "    <tr>\n",
              "      <th>2017-08-26 10:00:00</th>\n",
              "      <td>51.10</td>\n",
              "      <td>0.0</td>\n",
              "      <td>0.0</td>\n",
              "    </tr>\n",
              "    <tr>\n",
              "      <th>2017-08-28 04:00:00</th>\n",
              "      <td>55.00</td>\n",
              "      <td>0.0</td>\n",
              "      <td>0.0</td>\n",
              "    </tr>\n",
              "    <tr>\n",
              "      <th>2017-08-29 05:00:00</th>\n",
              "      <td>54.00</td>\n",
              "      <td>0.0</td>\n",
              "      <td>0.0</td>\n",
              "    </tr>\n",
              "    <tr>\n",
              "      <th>2017-08-31 10:00:00</th>\n",
              "      <td>55.00</td>\n",
              "      <td>0.0</td>\n",
              "      <td>0.0</td>\n",
              "    </tr>\n",
              "  </tbody>\n",
              "</table>\n",
              "<p>246 rows × 3 columns</p>\n",
              "</div>"
            ],
            "text/plain": [
              "                      tmpf  drct  sknt\n",
              "valid                                 \n",
              "2016-09-01 15:00:00  69.98   0.0   0.0\n",
              "2016-09-04 00:00:00  62.96   0.0   0.0\n",
              "2016-09-10 06:00:00  73.04   0.0   0.0\n",
              "2016-09-12 09:00:00  51.08   0.0   0.0\n",
              "2016-09-13 06:00:00  55.04   0.0   0.0\n",
              "...                    ...   ...   ...\n",
              "2017-08-24 10:00:00  57.90   0.0   0.0\n",
              "2017-08-26 10:00:00  51.10   0.0   0.0\n",
              "2017-08-28 04:00:00  55.00   0.0   0.0\n",
              "2017-08-29 05:00:00  54.00   0.0   0.0\n",
              "2017-08-31 10:00:00  55.00   0.0   0.0\n",
              "\n",
              "[246 rows x 3 columns]"
            ]
          },
          "metadata": {
            "tags": []
          },
          "execution_count": 15
        }
      ]
    },
    {
      "cell_type": "code",
      "metadata": {
        "id": "_vJc0djUqHVJ",
        "colab_type": "code",
        "outputId": "c091a9c6-c454-42a0-e082-693ffbe15729",
        "colab": {
          "base_uri": "https://localhost:8080/",
          "height": 223
        }
      },
      "source": [
        "target_data = target_data.fillna(0)\n",
        "target_data.head()"
      ],
      "execution_count": 16,
      "outputs": [
        {
          "output_type": "execute_result",
          "data": {
            "text/html": [
              "<div>\n",
              "<style scoped>\n",
              "    .dataframe tbody tr th:only-of-type {\n",
              "        vertical-align: middle;\n",
              "    }\n",
              "\n",
              "    .dataframe tbody tr th {\n",
              "        vertical-align: top;\n",
              "    }\n",
              "\n",
              "    .dataframe thead th {\n",
              "        text-align: right;\n",
              "    }\n",
              "</style>\n",
              "<table border=\"1\" class=\"dataframe\">\n",
              "  <thead>\n",
              "    <tr style=\"text-align: right;\">\n",
              "      <th></th>\n",
              "      <th>tmpf</th>\n",
              "      <th>drct</th>\n",
              "      <th>sknt</th>\n",
              "    </tr>\n",
              "    <tr>\n",
              "      <th>valid</th>\n",
              "      <th></th>\n",
              "      <th></th>\n",
              "      <th></th>\n",
              "    </tr>\n",
              "  </thead>\n",
              "  <tbody>\n",
              "    <tr>\n",
              "      <th>2016-09-01 00:00:00</th>\n",
              "      <td>75.02</td>\n",
              "      <td>222.500000</td>\n",
              "      <td>5.125000</td>\n",
              "    </tr>\n",
              "    <tr>\n",
              "      <th>2016-09-01 01:00:00</th>\n",
              "      <td>73.94</td>\n",
              "      <td>202.857143</td>\n",
              "      <td>4.857143</td>\n",
              "    </tr>\n",
              "    <tr>\n",
              "      <th>2016-09-01 02:00:00</th>\n",
              "      <td>73.94</td>\n",
              "      <td>218.181818</td>\n",
              "      <td>4.272727</td>\n",
              "    </tr>\n",
              "    <tr>\n",
              "      <th>2016-09-01 03:00:00</th>\n",
              "      <td>73.94</td>\n",
              "      <td>204.444444</td>\n",
              "      <td>4.555556</td>\n",
              "    </tr>\n",
              "    <tr>\n",
              "      <th>2016-09-01 04:00:00</th>\n",
              "      <td>73.04</td>\n",
              "      <td>145.000000</td>\n",
              "      <td>2.700000</td>\n",
              "    </tr>\n",
              "  </tbody>\n",
              "</table>\n",
              "</div>"
            ],
            "text/plain": [
              "                      tmpf        drct      sknt\n",
              "valid                                           \n",
              "2016-09-01 00:00:00  75.02  222.500000  5.125000\n",
              "2016-09-01 01:00:00  73.94  202.857143  4.857143\n",
              "2016-09-01 02:00:00  73.94  218.181818  4.272727\n",
              "2016-09-01 03:00:00  73.94  204.444444  4.555556\n",
              "2016-09-01 04:00:00  73.04  145.000000  2.700000"
            ]
          },
          "metadata": {
            "tags": []
          },
          "execution_count": 16
        }
      ]
    },
    {
      "cell_type": "code",
      "metadata": {
        "id": "ucAcCxLymsyV",
        "colab_type": "code",
        "colab": {}
      },
      "source": [
        "# fill the 0 with the past 5 hous mean\n",
        "# tmpf column\n",
        "for i in range(0,8719):\n",
        "  if target_data.iloc[i][0] == 0:\n",
        "    target_data['tmpf'].iloc[i] = total = target_data['tmpf'].iloc[i-5:i].mean()\n",
        "# drct column\n",
        "  if target_data.iloc[i][1] == 0:\n",
        "    target_data['drct'].iloc[i] = total = target_data['drct'].iloc[i-5:i].mean()"
      ],
      "execution_count": 0,
      "outputs": []
    },
    {
      "cell_type": "code",
      "metadata": {
        "id": "U-ynkTi5MV5U",
        "colab_type": "code",
        "outputId": "77b2da9a-78d8-440e-82d6-0eaea564ac20",
        "colab": {
          "base_uri": "https://localhost:8080/",
          "height": 76
        }
      },
      "source": [
        "target_data[target_data.drct == 0] # no 0s anymore"
      ],
      "execution_count": 18,
      "outputs": [
        {
          "output_type": "execute_result",
          "data": {
            "text/html": [
              "<div>\n",
              "<style scoped>\n",
              "    .dataframe tbody tr th:only-of-type {\n",
              "        vertical-align: middle;\n",
              "    }\n",
              "\n",
              "    .dataframe tbody tr th {\n",
              "        vertical-align: top;\n",
              "    }\n",
              "\n",
              "    .dataframe thead th {\n",
              "        text-align: right;\n",
              "    }\n",
              "</style>\n",
              "<table border=\"1\" class=\"dataframe\">\n",
              "  <thead>\n",
              "    <tr style=\"text-align: right;\">\n",
              "      <th></th>\n",
              "      <th>tmpf</th>\n",
              "      <th>drct</th>\n",
              "      <th>sknt</th>\n",
              "    </tr>\n",
              "    <tr>\n",
              "      <th>valid</th>\n",
              "      <th></th>\n",
              "      <th></th>\n",
              "      <th></th>\n",
              "    </tr>\n",
              "  </thead>\n",
              "  <tbody>\n",
              "  </tbody>\n",
              "</table>\n",
              "</div>"
            ],
            "text/plain": [
              "Empty DataFrame\n",
              "Columns: [tmpf, drct, sknt]\n",
              "Index: []"
            ]
          },
          "metadata": {
            "tags": []
          },
          "execution_count": 18
        }
      ]
    },
    {
      "cell_type": "code",
      "metadata": {
        "id": "ymtBLe_kmx4j",
        "colab_type": "code",
        "colab": {}
      },
      "source": [
        "#3: set train and test dataset\n",
        "a = pd.Timestamp('2017/06/01 00:00:00')\n",
        "b = pd.Timestamp('2017/08/01 00:00:00')\n",
        "sample = target_data[target_data.index < b]\n",
        "train = target_data[target_data.index < a]\n",
        "val = sample[sample.index >= a]\n",
        "test = target_data[target_data.index >= b]\n",
        "# separate the data into train, validation and test\n",
        "# tmpf model\n",
        "# y_train_1 = train['tmpf']\n",
        "# y_val_1 = val['tmpf']\n",
        "# y_test_1 = test['tmpf']\n",
        "# drct model\n",
        "# y_train_2 = train['drct']\n",
        "# y_val_2 = val['drct']\n",
        "# y_test_2 = test['drct']\n",
        "# sknt model\n",
        "y_train_3 = train['sknt']\n",
        "y_val_3 = val['sknt']\n",
        "y_test_3 = test['sknt']"
      ],
      "execution_count": 0,
      "outputs": []
    },
    {
      "cell_type": "code",
      "metadata": {
        "id": "-Q6EFUbbsPtC",
        "colab_type": "code",
        "outputId": "09917300-ad5f-4ad5-f45f-9a5886423fd6",
        "colab": {
          "base_uri": "https://localhost:8080/",
          "height": 70
        }
      },
      "source": [
        "#4:  check the shape\n",
        "print(\"Image train dataset shape: \", x_train.shape, \"Weather train dataset shape: \", train.shape)\n",
        "print(\"Image validation dataset shape: \", x_val.shape, \"Weather validation dataset shape: \", val.shape)\n",
        "print(\"Image test dataset shape: \", x_test.shape, \"Weather test dataset shape: \", test.shape)"
      ],
      "execution_count": 20,
      "outputs": [
        {
          "output_type": "stream",
          "text": [
            "Image train dataset shape:  (6511, 125, 145, 3) Weather train dataset shape:  (6511, 3)\n",
            "Image validation dataset shape:  (1464, 125, 145, 3) Weather validation dataset shape:  (1464, 3)\n",
            "Image test dataset shape:  (744, 125, 145, 3) Weather test dataset shape:  (744, 3)\n"
          ],
          "name": "stdout"
        }
      ]
    },
    {
      "cell_type": "markdown",
      "metadata": {
        "id": "Rf_ihZjzDhaD",
        "colab_type": "text"
      },
      "source": [
        "### 1.2 ConvNet Regression Model"
      ]
    },
    {
      "cell_type": "markdown",
      "metadata": {
        "id": "Y_uIt0I8DhZq",
        "colab_type": "text"
      },
      "source": [
        "#### 1) Model Architecture"
      ]
    },
    {
      "cell_type": "code",
      "metadata": {
        "id": "4sJwySSNXWa4",
        "colab_type": "code",
        "colab": {}
      },
      "source": [
        "#5: build the CNN model\n",
        "model = tf.keras.Sequential()\n",
        "\n",
        "# Must define the input shape in the first layer of the neural network\n",
        "model.add(tf.keras.layers.Conv2D(filters=128, kernel_size=2, padding='same', activation='relu', input_shape=(125,145,3))) \n",
        "model.add(tf.keras.layers.MaxPooling2D(pool_size=2))\n",
        "model.add(tf.keras.layers.Dropout(0.3))\n",
        "\n",
        "model.add(tf.keras.layers.Conv2D(filters=32, kernel_size=2, padding='same', activation='relu'))\n",
        "model.add(tf.keras.layers.MaxPooling2D(pool_size=2))\n",
        "model.add(tf.keras.layers.Dropout(0.3))\n",
        "\n",
        "# Add one more layer\n",
        "model.add(tf.keras.layers.Conv2D(filters=32, kernel_size=2, padding='same', activation='relu'))\n",
        "model.add(tf.keras.layers.MaxPooling2D(pool_size=2))\n",
        "model.add(tf.keras.layers.Dropout(0.3))\n",
        "\n",
        "model.add(tf.keras.layers.Flatten())\n",
        "model.add(tf.keras.layers.Dense(256, activation='relu'))\n",
        "model.add(tf.keras.layers.Dense(128, activation='relu'))\n",
        "model.add(tf.keras.layers.Dropout(0.5))\n",
        "model.add(tf.keras.layers.Dense(1, activation='linear'))"
      ],
      "execution_count": 0,
      "outputs": []
    },
    {
      "cell_type": "code",
      "metadata": {
        "id": "DTJyMZ1peK3B",
        "colab_type": "code",
        "colab": {}
      },
      "source": [
        "#opt = Adam(lr=1e-3, decay=1e-3 / 200)\n",
        "model.compile(optimizer='rmsprop',loss=\"mse\", metrics=['mae'])"
      ],
      "execution_count": 0,
      "outputs": []
    },
    {
      "cell_type": "code",
      "metadata": {
        "id": "jpFyqqao78xO",
        "colab_type": "code",
        "colab": {}
      },
      "source": [
        "es = EarlyStopping(monitor='val_loss', mode='min', \n",
        "                   # LOOK HOW QUICK IT STOPS IF YOU DON'T USE\n",
        "                   # PATIENCE - SUBJECT TO NOISE!!!\n",
        "                   # will vary based on every problem you tackle\n",
        "                   # try a patience of 2, 5, 10, 50, 100...\n",
        "                   # what do you notice?\n",
        "                   patience=10, \n",
        "                   verbose=1)"
      ],
      "execution_count": 0,
      "outputs": []
    },
    {
      "cell_type": "markdown",
      "metadata": {
        "id": "8mHR29DD_OOy",
        "colab_type": "text"
      },
      "source": [
        "#### 2) Model Fitting"
      ]
    },
    {
      "cell_type": "code",
      "metadata": {
        "id": "jUFgeA0H-Bk3",
        "colab_type": "code",
        "outputId": "965844fe-c017-48bc-db24-db95e9abe0d6",
        "colab": {
          "base_uri": "https://localhost:8080/",
          "height": 781
        }
      },
      "source": [
        "#6: fit train data into the model\n",
        "print(\"[INFO] training model...\")\n",
        "history = model.fit(x_train, y_train_3, validation_data=(x_val, y_val_3), epochs=500, batch_size=10,verbose=1,callbacks=[es])"
      ],
      "execution_count": 48,
      "outputs": [
        {
          "output_type": "stream",
          "text": [
            "[INFO] training model...\n",
            "Train on 6511 samples, validate on 1464 samples\n",
            "Epoch 1/500\n",
            "6511/6511 [==============================] - 18s 3ms/sample - loss: 6.9348 - mean_absolute_error: 2.0062 - val_loss: 9.4626 - val_mean_absolute_error: 2.4793\n",
            "Epoch 2/500\n",
            "6511/6511 [==============================] - 18s 3ms/sample - loss: 6.8191 - mean_absolute_error: 1.9919 - val_loss: 10.2995 - val_mean_absolute_error: 2.5798\n",
            "Epoch 3/500\n",
            "6511/6511 [==============================] - 18s 3ms/sample - loss: 7.0789 - mean_absolute_error: 2.0145 - val_loss: 11.6232 - val_mean_absolute_error: 2.7524\n",
            "Epoch 4/500\n",
            "6511/6511 [==============================] - 18s 3ms/sample - loss: 6.9681 - mean_absolute_error: 2.0097 - val_loss: 12.1810 - val_mean_absolute_error: 2.8367\n",
            "Epoch 5/500\n",
            "6511/6511 [==============================] - 18s 3ms/sample - loss: 7.0155 - mean_absolute_error: 2.0197 - val_loss: 9.9568 - val_mean_absolute_error: 2.5375\n",
            "Epoch 6/500\n",
            "6511/6511 [==============================] - 18s 3ms/sample - loss: 6.7663 - mean_absolute_error: 1.9837 - val_loss: 8.2287 - val_mean_absolute_error: 2.2807\n",
            "Epoch 7/500\n",
            "6511/6511 [==============================] - 18s 3ms/sample - loss: 6.7926 - mean_absolute_error: 1.9712 - val_loss: 10.4600 - val_mean_absolute_error: 2.6028\n",
            "Epoch 8/500\n",
            "6511/6511 [==============================] - 18s 3ms/sample - loss: 6.9061 - mean_absolute_error: 1.9941 - val_loss: 10.0827 - val_mean_absolute_error: 2.5619\n",
            "Epoch 9/500\n",
            "6511/6511 [==============================] - 18s 3ms/sample - loss: 6.8366 - mean_absolute_error: 1.9811 - val_loss: 10.0388 - val_mean_absolute_error: 2.5291\n",
            "Epoch 10/500\n",
            "6511/6511 [==============================] - 18s 3ms/sample - loss: 6.5555 - mean_absolute_error: 1.9500 - val_loss: 7.1711 - val_mean_absolute_error: 2.1501\n",
            "Epoch 11/500\n",
            "6511/6511 [==============================] - 18s 3ms/sample - loss: 6.9149 - mean_absolute_error: 1.9814 - val_loss: 11.5196 - val_mean_absolute_error: 2.7331\n",
            "Epoch 12/500\n",
            "6511/6511 [==============================] - 18s 3ms/sample - loss: 6.8361 - mean_absolute_error: 1.9851 - val_loss: 8.2882 - val_mean_absolute_error: 2.2705\n",
            "Epoch 13/500\n",
            "6511/6511 [==============================] - 18s 3ms/sample - loss: 6.5645 - mean_absolute_error: 1.9462 - val_loss: 10.3290 - val_mean_absolute_error: 2.5456\n",
            "Epoch 14/500\n",
            "6511/6511 [==============================] - 18s 3ms/sample - loss: 6.5212 - mean_absolute_error: 1.9247 - val_loss: 9.0359 - val_mean_absolute_error: 2.3965\n",
            "Epoch 15/500\n",
            "6511/6511 [==============================] - 18s 3ms/sample - loss: 6.5197 - mean_absolute_error: 1.9249 - val_loss: 10.4448 - val_mean_absolute_error: 2.5866\n",
            "Epoch 16/500\n",
            "6511/6511 [==============================] - 18s 3ms/sample - loss: 6.6538 - mean_absolute_error: 1.9515 - val_loss: 8.1130 - val_mean_absolute_error: 2.2739\n",
            "Epoch 17/500\n",
            "6511/6511 [==============================] - 18s 3ms/sample - loss: 6.5307 - mean_absolute_error: 1.9349 - val_loss: 11.1822 - val_mean_absolute_error: 2.6939\n",
            "Epoch 18/500\n",
            "6511/6511 [==============================] - 18s 3ms/sample - loss: 6.5609 - mean_absolute_error: 1.9385 - val_loss: 8.9283 - val_mean_absolute_error: 2.3872\n",
            "Epoch 19/500\n",
            "6511/6511 [==============================] - 18s 3ms/sample - loss: 6.3995 - mean_absolute_error: 1.9207 - val_loss: 9.8224 - val_mean_absolute_error: 2.4806\n",
            "Epoch 20/500\n",
            "6511/6511 [==============================] - 18s 3ms/sample - loss: 6.4957 - mean_absolute_error: 1.9289 - val_loss: 7.6248 - val_mean_absolute_error: 2.1806\n",
            "Epoch 00020: early stopping\n"
          ],
          "name": "stdout"
        }
      ]
    },
    {
      "cell_type": "code",
      "metadata": {
        "id": "XIY0NxFV8kC6",
        "colab_type": "code",
        "outputId": "52347a0b-628d-4dce-e7e1-34e0155d1ec4",
        "colab": {
          "base_uri": "https://localhost:8080/",
          "height": 35
        }
      },
      "source": [
        "# let's try to extract from history.history\n",
        "x = np.array(history.epoch)\n",
        "x = max(x)\n",
        "print(\"We should re-run for this many epochs: \", x)"
      ],
      "execution_count": 49,
      "outputs": [
        {
          "output_type": "stream",
          "text": [
            "We should re-run for this many epochs:  19\n"
          ],
          "name": "stdout"
        }
      ]
    },
    {
      "cell_type": "code",
      "metadata": {
        "id": "piTvv6K77AMJ",
        "colab_type": "code",
        "outputId": "babeca99-efc1-49fa-abce-0de01a00b78a",
        "colab": {
          "base_uri": "https://localhost:8080/",
          "height": 295
        }
      },
      "source": [
        "# let's see the training and validation loss by epoch\n",
        "history_dict = history.history\n",
        "loss_values = history_dict['loss'] # you can change this\n",
        "val_loss_values = history_dict['val_loss'] # you can also change this\n",
        "epochs = range(1, len(loss_values) + 1) #acc wasn't defined before\n",
        "plt.plot(epochs, loss_values, 'bo', label='Training loss')\n",
        "plt.plot(epochs, val_loss_values, 'orange', label='Validation loss')\n",
        "plt.title('Training and validation loss')\n",
        "plt.xlabel('Epochs')\n",
        "plt.ylabel('Loss')\n",
        "plt.legend()\n",
        "plt.show()"
      ],
      "execution_count": 50,
      "outputs": [
        {
          "output_type": "display_data",
          "data": {
            "image/png": "[encoded data removed]",
            "text/plain": [
              "<Figure size 432x288 with 1 Axes>"
            ]
          },
          "metadata": {
            "tags": []
          }
        }
      ]
    },
    {
      "cell_type": "code",
      "metadata": {
        "id": "ciHW7olQA8nn",
        "colab_type": "code",
        "colab": {}
      },
      "source": [
        "model.save(\"/content/drive/My Drive/Deep Learning/Week 2/Weather Prediction/Models/ConvNet_WindRregression_Model_qiz18023.h5\")"
      ],
      "execution_count": 0,
      "outputs": []
    },
    {
      "cell_type": "markdown",
      "metadata": {
        "id": "3YgGMMhYAU0y",
        "colab_type": "text"
      },
      "source": [
        "#### 3) Model Validation"
      ]
    },
    {
      "cell_type": "code",
      "metadata": {
        "id": "-Tn5qwTVBI82",
        "colab_type": "code",
        "outputId": "14efab9f-49f5-4fda-a870-411d76ef3dc1",
        "colab": {
          "base_uri": "https://localhost:8080/",
          "height": 313
        }
      },
      "source": [
        "#7 make predictions for the testing data based on the model\n",
        "print(\"[INFO] predicting wind speed...\")\n",
        "preds_test = model.predict(x_test)\n",
        "plt.scatter(preds_test, y_test_3)\n",
        "plt.title('Sknt Test: Actual vs. Predicted')\n",
        "plt.xlabel('Predicted')\n",
        "plt.ylabel('Actual')\n",
        "plt.plot(y_test_3, y_test_3, color='red')\n",
        "plt.savefig(result+'Sknt Test.png')"
      ],
      "execution_count": 52,
      "outputs": [
        {
          "output_type": "stream",
          "text": [
            "[INFO] predicting wind speed...\n"
          ],
          "name": "stdout"
        },
        {
          "output_type": "display_data",
          "data": {
            "image/png": "[encoded data removed]",
            "text/plain": [
              "<Figure size 432x288 with 1 Axes>"
            ]
          },
          "metadata": {
            "tags": []
          }
        }
      ]
    },
    {
      "cell_type": "code",
      "metadata": {
        "id": "kTC08y2bvtY_",
        "colab_type": "code",
        "outputId": "5910acca-9731-4a88-b1d0-ef0b4c983bc0",
        "colab": {
          "base_uri": "https://localhost:8080/",
          "height": 295
        }
      },
      "source": [
        "# actual vs. predicted on training\n",
        "preds_train = model.predict(x_train)\n",
        "plt.scatter(preds_train, y_train_3)\n",
        "plt.title('Sknt Train: Actual vs. Predicted')\n",
        "plt.xlabel('Predicted')\n",
        "plt.ylabel('Actual')\n",
        "plt.plot(y_train_3, y_train_3, color='red')\n",
        "plt.savefig(result+'Sknt Training.png')"
      ],
      "execution_count": 53,
      "outputs": [
        {
          "output_type": "display_data",
          "data": {
            "image/png": "[encoded data removed]",
            "text/plain": [
              "<Figure size 432x288 with 1 Axes>"
            ]
          },
          "metadata": {
            "tags": []
          }
        }
      ]
    },
    {
      "cell_type": "code",
      "metadata": {
        "id": "mxapAg74CTj_",
        "colab_type": "code",
        "outputId": "e3dbe660-f341-4afb-e00c-a80567444c5e",
        "colab": {
          "base_uri": "https://localhost:8080/",
          "height": 295
        }
      },
      "source": [
        "# actual vs. predicted on validation\n",
        "preds_val = model.predict(x_val)\n",
        "plt.scatter(preds_val, y_val_3)\n",
        "plt.title('Sknt Validation: Actual vs. Predicted')\n",
        "plt.xlabel('Predicted')\n",
        "plt.ylabel('Actual')\n",
        "plt.plot(y_val_3, y_val_3, color='red')\n",
        "plt.savefig(result+'Sknt Validation.png')"
      ],
      "execution_count": 54,
      "outputs": [
        {
          "output_type": "display_data",
          "data": {
            "image/png": "[encoded data removed]",
            "text/plain": [
              "<Figure size 432x288 with 1 Axes>"
            ]
          },
          "metadata": {
            "tags": []
          }
        }
      ]
    },
    {
      "cell_type": "markdown",
      "metadata": {
        "id": "aHgkhHSGApBD",
        "colab_type": "text"
      },
      "source": [
        "### 2.3 Assessment of the Results"
      ]
    },
    {
      "cell_type": "code",
      "metadata": {
        "id": "H4gRStQloqjN",
        "colab_type": "code",
        "outputId": "9348474d-a2cf-484c-912c-94b3a2e31238",
        "colab": {
          "base_uri": "https://localhost:8080/",
          "height": 52
        }
      },
      "source": [
        "results = model.evaluate(x_test, y_test_3)\n",
        "results"
      ],
      "execution_count": 55,
      "outputs": [
        {
          "output_type": "stream",
          "text": [
            "744/744 [==============================] - 0s 656us/sample - loss: 5.6621 - mean_absolute_error: 1.8935\n"
          ],
          "name": "stdout"
        },
        {
          "output_type": "execute_result",
          "data": {
            "text/plain": [
              "[5.662147081026467, 1.8935214]"
            ]
          },
          "metadata": {
            "tags": []
          },
          "execution_count": 55
        }
      ]
    },
    {
      "cell_type": "code",
      "metadata": {
        "id": "OwjcHT1ijpVy",
        "colab_type": "code",
        "outputId": "f54eaa31-5ef8-40ad-8acd-035535eb20e5",
        "colab": {
          "base_uri": "https://localhost:8080/",
          "height": 52
        }
      },
      "source": [
        "print(type(preds_test))\n",
        "print(type(y_test_3))"
      ],
      "execution_count": 56,
      "outputs": [
        {
          "output_type": "stream",
          "text": [
            "<class 'numpy.ndarray'>\n",
            "<class 'pandas.core.series.Series'>\n"
          ],
          "name": "stdout"
        }
      ]
    },
    {
      "cell_type": "code",
      "metadata": {
        "id": "kbPb5Tsmj-ee",
        "colab_type": "code",
        "outputId": "cadfd338-d4fc-492c-f151-43253e9434f2",
        "colab": {
          "base_uri": "https://localhost:8080/",
          "height": 194
        }
      },
      "source": [
        "# Train dataset\n",
        "# flatten the 1-D numpy array\n",
        "myPreds = np.ndarray.flatten(preds_train)\n",
        "myPreds = pd.DataFrame(myPreds)\n",
        "myPreds.reset_index(drop=True)\n",
        "myPreds.rename(columns={0: \"preds_sknt\"}, inplace=True)\n",
        "myPreds['Type'] = 'train'\n",
        "#actual predictions\n",
        "myActual = pd.DataFrame(np.array(y_train_3))\n",
        "myActual.reset_index(drop=True)\n",
        "myActual.rename(columns={0: \"actual_sknt\"}, inplace=True)\n",
        "allResults1 = pd.concat([myActual,myPreds], axis=1)\n",
        "allResults1.head()"
      ],
      "execution_count": 57,
      "outputs": [
        {
          "output_type": "execute_result",
          "data": {
            "text/html": [
              "<div>\n",
              "<style scoped>\n",
              "    .dataframe tbody tr th:only-of-type {\n",
              "        vertical-align: middle;\n",
              "    }\n",
              "\n",
              "    .dataframe tbody tr th {\n",
              "        vertical-align: top;\n",
              "    }\n",
              "\n",
              "    .dataframe thead th {\n",
              "        text-align: right;\n",
              "    }\n",
              "</style>\n",
              "<table border=\"1\" class=\"dataframe\">\n",
              "  <thead>\n",
              "    <tr style=\"text-align: right;\">\n",
              "      <th></th>\n",
              "      <th>actual_sknt</th>\n",
              "      <th>preds_sknt</th>\n",
              "      <th>Type</th>\n",
              "    </tr>\n",
              "  </thead>\n",
              "  <tbody>\n",
              "    <tr>\n",
              "      <th>0</th>\n",
              "      <td>5.125000</td>\n",
              "      <td>3.938084</td>\n",
              "      <td>train</td>\n",
              "    </tr>\n",
              "    <tr>\n",
              "      <th>1</th>\n",
              "      <td>4.857143</td>\n",
              "      <td>4.322338</td>\n",
              "      <td>train</td>\n",
              "    </tr>\n",
              "    <tr>\n",
              "      <th>2</th>\n",
              "      <td>4.272727</td>\n",
              "      <td>5.486132</td>\n",
              "      <td>train</td>\n",
              "    </tr>\n",
              "    <tr>\n",
              "      <th>3</th>\n",
              "      <td>4.555556</td>\n",
              "      <td>3.700398</td>\n",
              "      <td>train</td>\n",
              "    </tr>\n",
              "    <tr>\n",
              "      <th>4</th>\n",
              "      <td>2.700000</td>\n",
              "      <td>4.237264</td>\n",
              "      <td>train</td>\n",
              "    </tr>\n",
              "  </tbody>\n",
              "</table>\n",
              "</div>"
            ],
            "text/plain": [
              "   actual_sknt  preds_sknt   Type\n",
              "0     5.125000    3.938084  train\n",
              "1     4.857143    4.322338  train\n",
              "2     4.272727    5.486132  train\n",
              "3     4.555556    3.700398  train\n",
              "4     2.700000    4.237264  train"
            ]
          },
          "metadata": {
            "tags": []
          },
          "execution_count": 57
        }
      ]
    },
    {
      "cell_type": "code",
      "metadata": {
        "id": "G4mtbu8hlPWZ",
        "colab_type": "code",
        "outputId": "4979b729-af7d-43f1-8ab5-6a250c142495",
        "colab": {
          "base_uri": "https://localhost:8080/",
          "height": 194
        }
      },
      "source": [
        "# Val dataset\n",
        "# flatten the 1-D numpy array\n",
        "myPreds = np.ndarray.flatten(preds_val)\n",
        "myPreds = pd.DataFrame(myPreds)\n",
        "myPreds.reset_index(drop=True)\n",
        "myPreds.rename(columns={0: \"preds_sknt\"}, inplace=True)\n",
        "myPreds['Type'] = 'val'\n",
        "#actual predictions\n",
        "myActual = pd.DataFrame(np.array(y_val_3))\n",
        "myActual.reset_index(drop=True)\n",
        "myActual.rename(columns={0: \"actual_sknt\"}, inplace=True)\n",
        "allResults2 = pd.concat([myActual,myPreds], axis=1)\n",
        "allResults2.head()"
      ],
      "execution_count": 58,
      "outputs": [
        {
          "output_type": "execute_result",
          "data": {
            "text/html": [
              "<div>\n",
              "<style scoped>\n",
              "    .dataframe tbody tr th:only-of-type {\n",
              "        vertical-align: middle;\n",
              "    }\n",
              "\n",
              "    .dataframe tbody tr th {\n",
              "        vertical-align: top;\n",
              "    }\n",
              "\n",
              "    .dataframe thead th {\n",
              "        text-align: right;\n",
              "    }\n",
              "</style>\n",
              "<table border=\"1\" class=\"dataframe\">\n",
              "  <thead>\n",
              "    <tr style=\"text-align: right;\">\n",
              "      <th></th>\n",
              "      <th>actual_sknt</th>\n",
              "      <th>preds_sknt</th>\n",
              "      <th>Type</th>\n",
              "    </tr>\n",
              "  </thead>\n",
              "  <tbody>\n",
              "    <tr>\n",
              "      <th>0</th>\n",
              "      <td>6.636364</td>\n",
              "      <td>4.028852</td>\n",
              "      <td>val</td>\n",
              "    </tr>\n",
              "    <tr>\n",
              "      <th>1</th>\n",
              "      <td>5.583333</td>\n",
              "      <td>3.536780</td>\n",
              "      <td>val</td>\n",
              "    </tr>\n",
              "    <tr>\n",
              "      <th>2</th>\n",
              "      <td>2.307692</td>\n",
              "      <td>5.411419</td>\n",
              "      <td>val</td>\n",
              "    </tr>\n",
              "    <tr>\n",
              "      <th>3</th>\n",
              "      <td>6.500000</td>\n",
              "      <td>4.288815</td>\n",
              "      <td>val</td>\n",
              "    </tr>\n",
              "    <tr>\n",
              "      <th>4</th>\n",
              "      <td>4.692308</td>\n",
              "      <td>4.347731</td>\n",
              "      <td>val</td>\n",
              "    </tr>\n",
              "  </tbody>\n",
              "</table>\n",
              "</div>"
            ],
            "text/plain": [
              "   actual_sknt  preds_sknt Type\n",
              "0     6.636364    4.028852  val\n",
              "1     5.583333    3.536780  val\n",
              "2     2.307692    5.411419  val\n",
              "3     6.500000    4.288815  val\n",
              "4     4.692308    4.347731  val"
            ]
          },
          "metadata": {
            "tags": []
          },
          "execution_count": 58
        }
      ]
    },
    {
      "cell_type": "code",
      "metadata": {
        "id": "g2rAQsovlaBF",
        "colab_type": "code",
        "outputId": "f241358a-096f-4061-eca9-bc906cbd1f64",
        "colab": {
          "base_uri": "https://localhost:8080/",
          "height": 194
        }
      },
      "source": [
        "# Test dataset\n",
        "# flatten the 1-D numpy array\n",
        "myPreds = np.ndarray.flatten(preds_test)\n",
        "myPreds = pd.DataFrame(myPreds)\n",
        "myPreds.reset_index(drop=True)\n",
        "myPreds.rename(columns={0: \"preds_sknt\"}, inplace=True)\n",
        "myPreds['Type'] = 'test'\n",
        "#actual predictions\n",
        "myActual = pd.DataFrame(np.array(y_test_3))\n",
        "myActual.reset_index(drop=True)\n",
        "myActual.rename(columns={0: \"actual_sknt\"}, inplace=True)\n",
        "allResults3 = pd.concat([myActual,myPreds], axis=1)\n",
        "allResults3.head()"
      ],
      "execution_count": 59,
      "outputs": [
        {
          "output_type": "execute_result",
          "data": {
            "text/html": [
              "<div>\n",
              "<style scoped>\n",
              "    .dataframe tbody tr th:only-of-type {\n",
              "        vertical-align: middle;\n",
              "    }\n",
              "\n",
              "    .dataframe tbody tr th {\n",
              "        vertical-align: top;\n",
              "    }\n",
              "\n",
              "    .dataframe thead th {\n",
              "        text-align: right;\n",
              "    }\n",
              "</style>\n",
              "<table border=\"1\" class=\"dataframe\">\n",
              "  <thead>\n",
              "    <tr style=\"text-align: right;\">\n",
              "      <th></th>\n",
              "      <th>actual_sknt</th>\n",
              "      <th>preds_sknt</th>\n",
              "      <th>Type</th>\n",
              "    </tr>\n",
              "  </thead>\n",
              "  <tbody>\n",
              "    <tr>\n",
              "      <th>0</th>\n",
              "      <td>8.833333</td>\n",
              "      <td>4.491956</td>\n",
              "      <td>test</td>\n",
              "    </tr>\n",
              "    <tr>\n",
              "      <th>1</th>\n",
              "      <td>6.076923</td>\n",
              "      <td>4.659609</td>\n",
              "      <td>test</td>\n",
              "    </tr>\n",
              "    <tr>\n",
              "      <th>2</th>\n",
              "      <td>4.615385</td>\n",
              "      <td>3.865591</td>\n",
              "      <td>test</td>\n",
              "    </tr>\n",
              "    <tr>\n",
              "      <th>3</th>\n",
              "      <td>3.307692</td>\n",
              "      <td>3.441023</td>\n",
              "      <td>test</td>\n",
              "    </tr>\n",
              "    <tr>\n",
              "      <th>4</th>\n",
              "      <td>3.076923</td>\n",
              "      <td>3.595720</td>\n",
              "      <td>test</td>\n",
              "    </tr>\n",
              "  </tbody>\n",
              "</table>\n",
              "</div>"
            ],
            "text/plain": [
              "   actual_sknt  preds_sknt  Type\n",
              "0     8.833333    4.491956  test\n",
              "1     6.076923    4.659609  test\n",
              "2     4.615385    3.865591  test\n",
              "3     3.307692    3.441023  test\n",
              "4     3.076923    3.595720  test"
            ]
          },
          "metadata": {
            "tags": []
          },
          "execution_count": 59
        }
      ]
    },
    {
      "cell_type": "code",
      "metadata": {
        "id": "4NDsSSofljnf",
        "colab_type": "code",
        "outputId": "a76c8006-bd23-4970-e226-c761be47aecf",
        "colab": {
          "base_uri": "https://localhost:8080/",
          "height": 164
        }
      },
      "source": [
        "# combine all three datasets\n",
        "allResults = pd.concat([allResults1,allResults2,allResults3], axis=0)\n",
        "allResults.groupby(\"Type\").count()"
      ],
      "execution_count": 48,
      "outputs": [
        {
          "output_type": "execute_result",
          "data": {
            "text/html": [
              "<div>\n",
              "<style scoped>\n",
              "    .dataframe tbody tr th:only-of-type {\n",
              "        vertical-align: middle;\n",
              "    }\n",
              "\n",
              "    .dataframe tbody tr th {\n",
              "        vertical-align: top;\n",
              "    }\n",
              "\n",
              "    .dataframe thead th {\n",
              "        text-align: right;\n",
              "    }\n",
              "</style>\n",
              "<table border=\"1\" class=\"dataframe\">\n",
              "  <thead>\n",
              "    <tr style=\"text-align: right;\">\n",
              "      <th></th>\n",
              "      <th>actual_sknt</th>\n",
              "      <th>preds_sknt</th>\n",
              "    </tr>\n",
              "    <tr>\n",
              "      <th>Type</th>\n",
              "      <th></th>\n",
              "      <th></th>\n",
              "    </tr>\n",
              "  </thead>\n",
              "  <tbody>\n",
              "    <tr>\n",
              "      <th>test</th>\n",
              "      <td>744</td>\n",
              "      <td>744</td>\n",
              "    </tr>\n",
              "    <tr>\n",
              "      <th>train</th>\n",
              "      <td>6511</td>\n",
              "      <td>6511</td>\n",
              "    </tr>\n",
              "    <tr>\n",
              "      <th>val</th>\n",
              "      <td>1464</td>\n",
              "      <td>1464</td>\n",
              "    </tr>\n",
              "  </tbody>\n",
              "</table>\n",
              "</div>"
            ],
            "text/plain": [
              "       actual_sknt  preds_sknt\n",
              "Type                          \n",
              "test           744         744\n",
              "train         6511        6511\n",
              "val           1464        1464"
            ]
          },
          "metadata": {
            "tags": []
          },
          "execution_count": 48
        }
      ]
    },
    {
      "cell_type": "markdown",
      "metadata": {
        "id": "2vion-7fkpQk",
        "colab_type": "text"
      },
      "source": [
        "# **Part 2: ConvNet Binary Classification for Temprature**"
      ]
    },
    {
      "cell_type": "markdown",
      "metadata": {
        "id": "_LgtDJu2lJc0",
        "colab_type": "text"
      },
      "source": [
        "### 2.1 Prepare the Data"
      ]
    },
    {
      "cell_type": "code",
      "metadata": {
        "id": "BdVwfP9AbxwS",
        "colab_type": "code",
        "colab": {
          "base_uri": "https://localhost:8080/",
          "height": 436
        },
        "outputId": "d6823bc2-8767-4c7f-c100-5e9205b04d74"
      },
      "source": [
        "# Create a binary target variable using tmpf, assign above average temperature to 1\n",
        "above_avg = target_data[target_data['tmpf']>= target_data['tmpf'].mean()]\n",
        "below_avg = target_data[target_data['tmpf']< target_data['tmpf'].mean()]\n",
        "above_avg['tmpf'] = 1\n",
        "below_avg['tmpf'] = 0\n",
        "binary_target_data = pd.concat([above_avg,below_avg], axis=0)\n",
        "binary_target_data.head()"
      ],
      "execution_count": 60,
      "outputs": [
        {
          "output_type": "stream",
          "text": [
            "/usr/local/lib/python3.6/dist-packages/ipykernel_launcher.py:3: SettingWithCopyWarning: \n",
            "A value is trying to be set on a copy of a slice from a DataFrame.\n",
            "Try using .loc[row_indexer,col_indexer] = value instead\n",
            "\n",
            "See the caveats in the documentation: http://pandas.pydata.org/pandas-docs/stable/user_guide/indexing.html#returning-a-view-versus-a-copy\n",
            "  This is separate from the ipykernel package so we can avoid doing imports until\n",
            "/usr/local/lib/python3.6/dist-packages/ipykernel_launcher.py:4: SettingWithCopyWarning: \n",
            "A value is trying to be set on a copy of a slice from a DataFrame.\n",
            "Try using .loc[row_indexer,col_indexer] = value instead\n",
            "\n",
            "See the caveats in the documentation: http://pandas.pydata.org/pandas-docs/stable/user_guide/indexing.html#returning-a-view-versus-a-copy\n",
            "  after removing the cwd from sys.path.\n"
          ],
          "name": "stderr"
        },
        {
          "output_type": "execute_result",
          "data": {
            "text/html": [
              "<div>\n",
              "<style scoped>\n",
              "    .dataframe tbody tr th:only-of-type {\n",
              "        vertical-align: middle;\n",
              "    }\n",
              "\n",
              "    .dataframe tbody tr th {\n",
              "        vertical-align: top;\n",
              "    }\n",
              "\n",
              "    .dataframe thead th {\n",
              "        text-align: right;\n",
              "    }\n",
              "</style>\n",
              "<table border=\"1\" class=\"dataframe\">\n",
              "  <thead>\n",
              "    <tr style=\"text-align: right;\">\n",
              "      <th></th>\n",
              "      <th>tmpf</th>\n",
              "      <th>drct</th>\n",
              "      <th>sknt</th>\n",
              "    </tr>\n",
              "    <tr>\n",
              "      <th>valid</th>\n",
              "      <th></th>\n",
              "      <th></th>\n",
              "      <th></th>\n",
              "    </tr>\n",
              "  </thead>\n",
              "  <tbody>\n",
              "    <tr>\n",
              "      <th>2016-09-01 00:00:00</th>\n",
              "      <td>1</td>\n",
              "      <td>222.500000</td>\n",
              "      <td>5.125000</td>\n",
              "    </tr>\n",
              "    <tr>\n",
              "      <th>2016-09-01 01:00:00</th>\n",
              "      <td>1</td>\n",
              "      <td>202.857143</td>\n",
              "      <td>4.857143</td>\n",
              "    </tr>\n",
              "    <tr>\n",
              "      <th>2016-09-01 02:00:00</th>\n",
              "      <td>1</td>\n",
              "      <td>218.181818</td>\n",
              "      <td>4.272727</td>\n",
              "    </tr>\n",
              "    <tr>\n",
              "      <th>2016-09-01 03:00:00</th>\n",
              "      <td>1</td>\n",
              "      <td>204.444444</td>\n",
              "      <td>4.555556</td>\n",
              "    </tr>\n",
              "    <tr>\n",
              "      <th>2016-09-01 04:00:00</th>\n",
              "      <td>1</td>\n",
              "      <td>145.000000</td>\n",
              "      <td>2.700000</td>\n",
              "    </tr>\n",
              "  </tbody>\n",
              "</table>\n",
              "</div>"
            ],
            "text/plain": [
              "                     tmpf        drct      sknt\n",
              "valid                                          \n",
              "2016-09-01 00:00:00     1  222.500000  5.125000\n",
              "2016-09-01 01:00:00     1  202.857143  4.857143\n",
              "2016-09-01 02:00:00     1  218.181818  4.272727\n",
              "2016-09-01 03:00:00     1  204.444444  4.555556\n",
              "2016-09-01 04:00:00     1  145.000000  2.700000"
            ]
          },
          "metadata": {
            "tags": []
          },
          "execution_count": 60
        }
      ]
    },
    {
      "cell_type": "code",
      "metadata": {
        "id": "Q3k2Ic4F2d5Y",
        "colab_type": "code",
        "colab": {}
      },
      "source": [
        "#3 set train and test dataset\n",
        "a = pd.Timestamp('2017/06/01 00:00:00')\n",
        "b = pd.Timestamp('2017/08/01 00:00:00')\n",
        "bi_sample = binary_target_data[binary_target_data.index < b]\n",
        "bi_train = binary_target_data[binary_target_data.index < a]\n",
        "bi_val = bi_sample[bi_sample.index >= a]\n",
        "bi_test = binary_target_data[binary_target_data.index >= b]\n",
        "# separate the data into train, validation and test\n",
        "# tmpf model\n",
        "y_train_4 = bi_train['tmpf']\n",
        "y_val_4 = bi_val['tmpf']\n",
        "y_test_4 = bi_test['tmpf']\n"
      ],
      "execution_count": 0,
      "outputs": []
    },
    {
      "cell_type": "code",
      "metadata": {
        "id": "jJHOOqV6fh31",
        "colab_type": "code",
        "colab": {
          "base_uri": "https://localhost:8080/",
          "height": 70
        },
        "outputId": "d3319864-ad8d-4684-f831-cb2e371f5d4b"
      },
      "source": [
        "#4:  check the shape\n",
        "print(\"Image train dataset shape: \", x_train.shape, \"Weather train dataset shape: \", bi_train.shape)\n",
        "print(\"Image validation dataset shape: \", x_val.shape, \"Weather validation dataset shape: \", bi_val.shape)\n",
        "print(\"Image test dataset shape: \", x_test.shape, \"Weather test dataset shape: \", bi_test.shape)"
      ],
      "execution_count": 62,
      "outputs": [
        {
          "output_type": "stream",
          "text": [
            "Image train dataset shape:  (6511, 125, 145, 3) Weather train dataset shape:  (6511, 3)\n",
            "Image validation dataset shape:  (1464, 125, 145, 3) Weather validation dataset shape:  (1464, 3)\n",
            "Image test dataset shape:  (744, 125, 145, 3) Weather test dataset shape:  (744, 3)\n"
          ],
          "name": "stdout"
        }
      ]
    },
    {
      "cell_type": "markdown",
      "metadata": {
        "id": "ly_jHexlgaG9",
        "colab_type": "text"
      },
      "source": [
        "### 2.2 Binary Classification Model for Temperature"
      ]
    },
    {
      "cell_type": "markdown",
      "metadata": {
        "id": "Cvur_W6QCGQE",
        "colab_type": "text"
      },
      "source": [
        "#### 1) Model Architecture"
      ]
    },
    {
      "cell_type": "code",
      "metadata": {
        "id": "3w9PBq-fgX60",
        "colab_type": "code",
        "colab": {}
      },
      "source": [
        "#5: build the CNN model\n",
        "from keras.wrappers.scikit_learn import KerasClassifier\n",
        "def create_bi_model():\n",
        "  bi_model = tf.keras.Sequential()\n",
        "  bi_model.add(tf.keras.layers.Conv2D(filters=128, kernel_size=2, padding='same', activation='relu', input_shape=(125,145,3))) \n",
        "  bi_model.add(tf.keras.layers.MaxPooling2D(pool_size=2))\n",
        "  bi_model.add(tf.keras.layers.Dropout(0.3))\n",
        "  bi_model.add(tf.keras.layers.Conv2D(filters=32, kernel_size=2, padding='same', activation='relu'))\n",
        "  bi_model.add(tf.keras.layers.MaxPooling2D(pool_size=2))\n",
        "  bi_model.add(tf.keras.layers.Dropout(0.3))\n",
        "  bi_model.add(tf.keras.layers.Conv2D(filters=32, kernel_size=2, padding='same', activation='relu'))\n",
        "  bi_model.add(tf.keras.layers.MaxPooling2D(pool_size=2))\n",
        "  bi_model.add(tf.keras.layers.Dropout(0.3))\n",
        "  bi_model.add(tf.keras.layers.Flatten())\n",
        "  bi_model.add(tf.keras.layers.Dense(256, activation='relu'))\n",
        "  bi_model.add(tf.keras.layers.Dense(128, activation='relu'))\n",
        "  bi_model.add(tf.keras.layers.Dropout(0.5))\n",
        "  bi_model.add(tf.keras.layers.Dense(1, activation='sigmoid'))\n",
        "  bi_model.compile(loss='binary_crossentropy', optimizer='adam', metrics=['accuracy'])\n",
        "  return bi_model\n",
        "bi_model = KerasClassifier(build_fn=create_bi_model)"
      ],
      "execution_count": 0,
      "outputs": []
    },
    {
      "cell_type": "code",
      "metadata": {
        "id": "dUloa3_tj6ms",
        "colab_type": "code",
        "colab": {}
      },
      "source": [
        "'''#opt = Adam(lr=1e-3, decay=1e-3 / 200)\n",
        "model.compile(optimizer='rmsprop',loss=\"mse\", metrics=['mae'])'''"
      ],
      "execution_count": 0,
      "outputs": []
    },
    {
      "cell_type": "code",
      "metadata": {
        "id": "8TeL5nHhj_hZ",
        "colab_type": "code",
        "colab": {}
      },
      "source": [
        "es = EarlyStopping(monitor='val_loss', mode='min', \n",
        "                   # LOOK HOW QUICK IT STOPS IF YOU DON'T USE\n",
        "                   # PATIENCE - SUBJECT TO NOISE!!!\n",
        "                   # will vary based on every problem you tackle\n",
        "                   # try a patience of 2, 5, 10, 50, 100...\n",
        "                   # what do you notice?\n",
        "                   patience=5, \n",
        "                   verbose=1)"
      ],
      "execution_count": 0,
      "outputs": []
    },
    {
      "cell_type": "markdown",
      "metadata": {
        "id": "bylW9ZtMCNqY",
        "colab_type": "text"
      },
      "source": [
        "#### 2) Model Fitting"
      ]
    },
    {
      "cell_type": "code",
      "metadata": {
        "id": "s1sphnspmk97",
        "colab_type": "code",
        "colab": {
          "base_uri": "https://localhost:8080/",
          "height": 392
        },
        "outputId": "c7d7670c-57dc-491b-b031-36727721566d"
      },
      "source": [
        "#6: fit train data into the model\n",
        "print(\"[INFO] training model...\")\n",
        "bi_history = bi_model.fit(x_train, y_train_4, validation_data=(x_val, y_val_4), epochs=500, batch_size=50,verbose=1,callbacks=[es])"
      ],
      "execution_count": 67,
      "outputs": [
        {
          "output_type": "stream",
          "text": [
            "[INFO] training model...\n",
            "WARNING:tensorflow:From /usr/local/lib/python3.6/dist-packages/tensorflow_core/python/ops/nn_impl.py:183: where (from tensorflow.python.ops.array_ops) is deprecated and will be removed in a future version.\n",
            "Instructions for updating:\n",
            "Use tf.where in 2.0, which has the same broadcast rule as np.where\n",
            "Train on 6511 samples, validate on 1464 samples\n",
            "Epoch 1/500\n",
            "6511/6511 [==============================] - 16s 2ms/sample - loss: 4.6215 - acc: 0.8195 - val_loss: 0.4534 - val_acc: 0.8135\n",
            "Epoch 2/500\n",
            "6511/6511 [==============================] - 15s 2ms/sample - loss: 0.2407 - acc: 0.9062 - val_loss: 0.3351 - val_acc: 0.8634\n",
            "Epoch 3/500\n",
            "6511/6511 [==============================] - 15s 2ms/sample - loss: 0.2130 - acc: 0.9169 - val_loss: 0.6229 - val_acc: 0.7951\n",
            "Epoch 4/500\n",
            "6511/6511 [==============================] - 15s 2ms/sample - loss: 0.2017 - acc: 0.9212 - val_loss: 0.8399 - val_acc: 0.7616\n",
            "Epoch 5/500\n",
            "6511/6511 [==============================] - 15s 2ms/sample - loss: 0.1688 - acc: 0.9292 - val_loss: 1.8337 - val_acc: 0.6175\n",
            "Epoch 6/500\n",
            "6511/6511 [==============================] - 16s 2ms/sample - loss: 0.1593 - acc: 0.9343 - val_loss: 1.0782 - val_acc: 0.6947\n",
            "Epoch 7/500\n",
            "6511/6511 [==============================] - 15s 2ms/sample - loss: 0.1369 - acc: 0.9413 - val_loss: 1.8645 - val_acc: 0.7903\n",
            "Epoch 00007: early stopping\n"
          ],
          "name": "stdout"
        }
      ]
    },
    {
      "cell_type": "code",
      "metadata": {
        "id": "pGbGP6xHnFeC",
        "colab_type": "code",
        "colab": {
          "base_uri": "https://localhost:8080/",
          "height": 35
        },
        "outputId": "39657c0c-ad46-4cce-fef7-5e3d2adc0bec"
      },
      "source": [
        "# let's try to extract from history.history\n",
        "bi_x = np.array(bi_history.epoch)\n",
        "bi_x = max(bi_x)\n",
        "print(\"We should re-run for this many epochs: \", bi_x)"
      ],
      "execution_count": 68,
      "outputs": [
        {
          "output_type": "stream",
          "text": [
            "We should re-run for this many epochs:  6\n"
          ],
          "name": "stdout"
        }
      ]
    },
    {
      "cell_type": "code",
      "metadata": {
        "id": "Yc9zxM_-pCWS",
        "colab_type": "code",
        "colab": {
          "base_uri": "https://localhost:8080/",
          "height": 295
        },
        "outputId": "c4b177b4-7015-462b-e967-7b28563d3ea7"
      },
      "source": [
        "# let's see the training and validation loss by epoch\n",
        "bi_history_dict = bi_history.history\n",
        "loss_values = bi_history_dict['loss'] # you can change this\n",
        "val_loss_values = bi_history_dict['val_loss'] # you can also change this\n",
        "epochs = range(1, len(loss_values) + 1) #acc wasn't defined before\n",
        "plt.plot(epochs, loss_values, 'bo', label='Training loss')\n",
        "plt.plot(epochs, val_loss_values, 'orange', label='Validation loss')\n",
        "plt.title('Training and validation loss')\n",
        "plt.xlabel('Epochs')\n",
        "plt.ylabel('Loss')\n",
        "plt.legend()\n",
        "plt.show()"
      ],
      "execution_count": 69,
      "outputs": [
        {
          "output_type": "display_data",
          "data": {
            "image/png": "[encoded data removed]",
            "text/plain": [
              "<Figure size 432x288 with 1 Axes>"
            ]
          },
          "metadata": {
            "tags": []
          }
        }
      ]
    },
    {
      "cell_type": "code",
      "metadata": {
        "id": "R2rNPIoirk5K",
        "colab_type": "code",
        "colab": {}
      },
      "source": [
        "model.save(\"/content/drive/My Drive/Deep Learning/Week 2/Weather Prediction/Models/ConvNet_TemperatureClassification_Model_qiz18023.h5\")"
      ],
      "execution_count": 0,
      "outputs": []
    },
    {
      "cell_type": "markdown",
      "metadata": {
        "id": "TxlghJcvCdpG",
        "colab_type": "text"
      },
      "source": [
        "#### 3) Model Validation"
      ]
    },
    {
      "cell_type": "code",
      "metadata": {
        "id": "t9qmNQvPqRlZ",
        "colab_type": "code",
        "colab": {}
      },
      "source": [
        "# make predictions on the testing dataset\n",
        "bi_preds_test = bi_model.predict(x_test)"
      ],
      "execution_count": 0,
      "outputs": []
    },
    {
      "cell_type": "code",
      "metadata": {
        "id": "UF2bFQ1t2DVy",
        "colab_type": "code",
        "colab": {
          "base_uri": "https://localhost:8080/",
          "height": 124
        },
        "outputId": "1da6acdd-7e2b-4171-e0ed-9b486ab8e014"
      },
      "source": [
        "from sklearn.metrics import confusion_matrix, classification_report\n",
        "def get_confusion_matrix_values(y_true, y_pred):\n",
        "  cm=confusion_matrix(y_true, y_pred)\n",
        "  return(cm[0][0], cm[0][1], cm[1][0], cm[1][1])\n",
        "\n",
        "# Confusion Matrix of the testing dataset \n",
        "print(\"[INFO] Testing Dataset Confusion Matrix\")\n",
        "pd.DataFrame(confusion_matrix(y_test_4, bi_preds_test))"
      ],
      "execution_count": 72,
      "outputs": [
        {
          "output_type": "stream",
          "text": [
            "[INFO] Testing Dataset Confusion Matrix\n"
          ],
          "name": "stdout"
        },
        {
          "output_type": "execute_result",
          "data": {
            "text/html": [
              "<div>\n",
              "<style scoped>\n",
              "    .dataframe tbody tr th:only-of-type {\n",
              "        vertical-align: middle;\n",
              "    }\n",
              "\n",
              "    .dataframe tbody tr th {\n",
              "        vertical-align: top;\n",
              "    }\n",
              "\n",
              "    .dataframe thead th {\n",
              "        text-align: right;\n",
              "    }\n",
              "</style>\n",
              "<table border=\"1\" class=\"dataframe\">\n",
              "  <thead>\n",
              "    <tr style=\"text-align: right;\">\n",
              "      <th></th>\n",
              "      <th>0</th>\n",
              "      <th>1</th>\n",
              "    </tr>\n",
              "  </thead>\n",
              "  <tbody>\n",
              "    <tr>\n",
              "      <th>0</th>\n",
              "      <td>0</td>\n",
              "      <td>4</td>\n",
              "    </tr>\n",
              "    <tr>\n",
              "      <th>1</th>\n",
              "      <td>0</td>\n",
              "      <td>740</td>\n",
              "    </tr>\n",
              "  </tbody>\n",
              "</table>\n",
              "</div>"
            ],
            "text/plain": [
              "   0    1\n",
              "0  0    4\n",
              "1  0  740"
            ]
          },
          "metadata": {
            "tags": []
          },
          "execution_count": 72
        }
      ]
    },
    {
      "cell_type": "code",
      "metadata": {
        "id": "bsj2-dt23UjD",
        "colab_type": "code",
        "colab": {
          "base_uri": "https://localhost:8080/",
          "height": 35
        },
        "outputId": "5865163d-88cb-498b-9047-3b1bd256e00a"
      },
      "source": [
        "from sklearn.metrics import accuracy_score\n",
        "\n",
        "# Accuracy of the testing dataset\n",
        "bi_test_score = accuracy_score(y_test_4, bi_preds_test)\n",
        "print(\"Testing Dataset Accuracy Score = \",bi_test_score)"
      ],
      "execution_count": 73,
      "outputs": [
        {
          "output_type": "stream",
          "text": [
            "Testing Dataset Accuracy Score =  0.9946236559139785\n"
          ],
          "name": "stdout"
        }
      ]
    },
    {
      "cell_type": "code",
      "metadata": {
        "id": "OUfnGcYauQJy",
        "colab_type": "code",
        "colab": {
          "base_uri": "https://localhost:8080/",
          "height": 124
        },
        "outputId": "ce29ce2d-3f24-43d4-e545-b728762ca9c7"
      },
      "source": [
        "# Confusion Matrix of the training dataset \n",
        "bi_preds_train = bi_model.predict(x_train)\n",
        "print(\"[INFO] Training Dataset Confusion Matrix\")\n",
        "pd.DataFrame(confusion_matrix(y_train_4, bi_preds_train))"
      ],
      "execution_count": 74,
      "outputs": [
        {
          "output_type": "stream",
          "text": [
            "[INFO] Training Dataset Confusion Matrix\n"
          ],
          "name": "stdout"
        },
        {
          "output_type": "execute_result",
          "data": {
            "text/html": [
              "<div>\n",
              "<style scoped>\n",
              "    .dataframe tbody tr th:only-of-type {\n",
              "        vertical-align: middle;\n",
              "    }\n",
              "\n",
              "    .dataframe tbody tr th {\n",
              "        vertical-align: top;\n",
              "    }\n",
              "\n",
              "    .dataframe thead th {\n",
              "        text-align: right;\n",
              "    }\n",
              "</style>\n",
              "<table border=\"1\" class=\"dataframe\">\n",
              "  <thead>\n",
              "    <tr style=\"text-align: right;\">\n",
              "      <th></th>\n",
              "      <th>0</th>\n",
              "      <th>1</th>\n",
              "    </tr>\n",
              "  </thead>\n",
              "  <tbody>\n",
              "    <tr>\n",
              "      <th>0</th>\n",
              "      <td>4182</td>\n",
              "      <td>80</td>\n",
              "    </tr>\n",
              "    <tr>\n",
              "      <th>1</th>\n",
              "      <td>268</td>\n",
              "      <td>1981</td>\n",
              "    </tr>\n",
              "  </tbody>\n",
              "</table>\n",
              "</div>"
            ],
            "text/plain": [
              "      0     1\n",
              "0  4182    80\n",
              "1   268  1981"
            ]
          },
          "metadata": {
            "tags": []
          },
          "execution_count": 74
        }
      ]
    },
    {
      "cell_type": "code",
      "metadata": {
        "id": "bhZKIriB3l0Q",
        "colab_type": "code",
        "colab": {
          "base_uri": "https://localhost:8080/",
          "height": 35
        },
        "outputId": "d39d5a37-0786-4283-af22-950c31f93714"
      },
      "source": [
        "# Accuracy of the training dataset\n",
        "bi_train_score = accuracy_score(y_train_4, bi_preds_train)\n",
        "print(\"Training Dataset Accuracy Score = \", bi_train_score)"
      ],
      "execution_count": 75,
      "outputs": [
        {
          "output_type": "stream",
          "text": [
            "Training Dataset Accuracy Score =  0.9465519889417908\n"
          ],
          "name": "stdout"
        }
      ]
    },
    {
      "cell_type": "code",
      "metadata": {
        "id": "XA8dtItKvU8b",
        "colab_type": "code",
        "colab": {
          "base_uri": "https://localhost:8080/",
          "height": 124
        },
        "outputId": "52bc1001-062a-4473-cc15-945857425f06"
      },
      "source": [
        "# Confusion Matrix of the validation dataset \n",
        "bi_preds_val = bi_model.predict(x_val)\n",
        "print(\"[INFO] Validation Dataset Confusion Matrix\")\n",
        "pd.DataFrame(confusion_matrix(y_val_4, bi_preds_val))"
      ],
      "execution_count": 76,
      "outputs": [
        {
          "output_type": "stream",
          "text": [
            "[INFO] Validation Dataset Confusion Matrix\n"
          ],
          "name": "stdout"
        },
        {
          "output_type": "execute_result",
          "data": {
            "text/html": [
              "<div>\n",
              "<style scoped>\n",
              "    .dataframe tbody tr th:only-of-type {\n",
              "        vertical-align: middle;\n",
              "    }\n",
              "\n",
              "    .dataframe tbody tr th {\n",
              "        vertical-align: top;\n",
              "    }\n",
              "\n",
              "    .dataframe thead th {\n",
              "        text-align: right;\n",
              "    }\n",
              "</style>\n",
              "<table border=\"1\" class=\"dataframe\">\n",
              "  <thead>\n",
              "    <tr style=\"text-align: right;\">\n",
              "      <th></th>\n",
              "      <th>0</th>\n",
              "      <th>1</th>\n",
              "    </tr>\n",
              "  </thead>\n",
              "  <tbody>\n",
              "    <tr>\n",
              "      <th>0</th>\n",
              "      <td>0</td>\n",
              "      <td>50</td>\n",
              "    </tr>\n",
              "    <tr>\n",
              "      <th>1</th>\n",
              "      <td>257</td>\n",
              "      <td>1157</td>\n",
              "    </tr>\n",
              "  </tbody>\n",
              "</table>\n",
              "</div>"
            ],
            "text/plain": [
              "     0     1\n",
              "0    0    50\n",
              "1  257  1157"
            ]
          },
          "metadata": {
            "tags": []
          },
          "execution_count": 76
        }
      ]
    },
    {
      "cell_type": "code",
      "metadata": {
        "id": "9dyioLhI30tD",
        "colab_type": "code",
        "colab": {
          "base_uri": "https://localhost:8080/",
          "height": 35
        },
        "outputId": "fa32e1be-086f-40e0-d1a0-f1be8e2581df"
      },
      "source": [
        "# Accuracy of the validation dataset\n",
        "bi_val_score = accuracy_score(y_val_4, bi_preds_val)\n",
        "print(\"Validation Dataset Accuracy Score = \",bi_val_score)"
      ],
      "execution_count": 77,
      "outputs": [
        {
          "output_type": "stream",
          "text": [
            "Validation Dataset Accuracy Score =  0.7903005464480874\n"
          ],
          "name": "stdout"
        }
      ]
    },
    {
      "cell_type": "code",
      "metadata": {
        "id": "Wte8w--D6yFy",
        "colab_type": "code",
        "colab": {
          "base_uri": "https://localhost:8080/",
          "height": 135
        },
        "outputId": "78f13fc3-339e-4bec-dd5c-0e43c4575d0e"
      },
      "source": [
        "# Accuracy Table\n",
        "data = {'Accuracy':[bi_train_score, bi_val_score, bi_test_score]} \n",
        "Accuracy_Table = pd.DataFrame(data, index=['Train', 'Validation', 'Test']) \n",
        "Accuracy_Table.to_csv('/content/drive/My Drive/Deep Learning/Week 2/Weather Prediction/Models/tmpf_accuracy_table.csv')\n",
        "Accuracy_Table "
      ],
      "execution_count": 78,
      "outputs": [
        {
          "output_type": "execute_result",
          "data": {
            "text/html": [
              "<div>\n",
              "<style scoped>\n",
              "    .dataframe tbody tr th:only-of-type {\n",
              "        vertical-align: middle;\n",
              "    }\n",
              "\n",
              "    .dataframe tbody tr th {\n",
              "        vertical-align: top;\n",
              "    }\n",
              "\n",
              "    .dataframe thead th {\n",
              "        text-align: right;\n",
              "    }\n",
              "</style>\n",
              "<table border=\"1\" class=\"dataframe\">\n",
              "  <thead>\n",
              "    <tr style=\"text-align: right;\">\n",
              "      <th></th>\n",
              "      <th>Accuracy</th>\n",
              "    </tr>\n",
              "  </thead>\n",
              "  <tbody>\n",
              "    <tr>\n",
              "      <th>Train</th>\n",
              "      <td>0.946552</td>\n",
              "    </tr>\n",
              "    <tr>\n",
              "      <th>Validation</th>\n",
              "      <td>0.790301</td>\n",
              "    </tr>\n",
              "    <tr>\n",
              "      <th>Test</th>\n",
              "      <td>0.994624</td>\n",
              "    </tr>\n",
              "  </tbody>\n",
              "</table>\n",
              "</div>"
            ],
            "text/plain": [
              "            Accuracy\n",
              "Train       0.946552\n",
              "Validation  0.790301\n",
              "Test        0.994624"
            ]
          },
          "metadata": {
            "tags": []
          },
          "execution_count": 78
        }
      ]
    },
    {
      "cell_type": "markdown",
      "metadata": {
        "id": "cv8kWkYDCpoO",
        "colab_type": "text"
      },
      "source": [
        "### 2.3 Assessment of the Results"
      ]
    },
    {
      "cell_type": "code",
      "metadata": {
        "id": "0ZJzy3qxwkfB",
        "colab_type": "code",
        "colab": {
          "base_uri": "https://localhost:8080/",
          "height": 194
        },
        "outputId": "eee4bfe8-f9cc-4a0b-9e94-40805f5586b8"
      },
      "source": [
        "# Train dataset\n",
        "# flatten the 1-D numpy array\n",
        "myClassify = np.ndarray.flatten(bi_preds_train)\n",
        "myClassify = pd.DataFrame(myClassify)\n",
        "myClassify.reset_index(drop=True)\n",
        "myClassify.rename(columns={0: \"classify_tmpf\"}, inplace=True)\n",
        "myClassify['Type'] = 'train'\n",
        "#actual predictions\n",
        "myBiActual = pd.DataFrame(np.array(y_train_4))\n",
        "myBiActual.reset_index(drop=True)\n",
        "myBiActual.rename(columns={0: \"bi_actual_tmpf\"}, inplace=True)\n",
        "allResults4 = pd.concat([myBiActual,myClassify], axis=1)\n",
        "allResults4.head()"
      ],
      "execution_count": 79,
      "outputs": [
        {
          "output_type": "execute_result",
          "data": {
            "text/html": [
              "<div>\n",
              "<style scoped>\n",
              "    .dataframe tbody tr th:only-of-type {\n",
              "        vertical-align: middle;\n",
              "    }\n",
              "\n",
              "    .dataframe tbody tr th {\n",
              "        vertical-align: top;\n",
              "    }\n",
              "\n",
              "    .dataframe thead th {\n",
              "        text-align: right;\n",
              "    }\n",
              "</style>\n",
              "<table border=\"1\" class=\"dataframe\">\n",
              "  <thead>\n",
              "    <tr style=\"text-align: right;\">\n",
              "      <th></th>\n",
              "      <th>bi_actual_tmpf</th>\n",
              "      <th>classify_tmpf</th>\n",
              "      <th>Type</th>\n",
              "    </tr>\n",
              "  </thead>\n",
              "  <tbody>\n",
              "    <tr>\n",
              "      <th>0</th>\n",
              "      <td>1</td>\n",
              "      <td>1</td>\n",
              "      <td>train</td>\n",
              "    </tr>\n",
              "    <tr>\n",
              "      <th>1</th>\n",
              "      <td>1</td>\n",
              "      <td>1</td>\n",
              "      <td>train</td>\n",
              "    </tr>\n",
              "    <tr>\n",
              "      <th>2</th>\n",
              "      <td>1</td>\n",
              "      <td>1</td>\n",
              "      <td>train</td>\n",
              "    </tr>\n",
              "    <tr>\n",
              "      <th>3</th>\n",
              "      <td>1</td>\n",
              "      <td>1</td>\n",
              "      <td>train</td>\n",
              "    </tr>\n",
              "    <tr>\n",
              "      <th>4</th>\n",
              "      <td>1</td>\n",
              "      <td>1</td>\n",
              "      <td>train</td>\n",
              "    </tr>\n",
              "  </tbody>\n",
              "</table>\n",
              "</div>"
            ],
            "text/plain": [
              "   bi_actual_tmpf  classify_tmpf   Type\n",
              "0               1              1  train\n",
              "1               1              1  train\n",
              "2               1              1  train\n",
              "3               1              1  train\n",
              "4               1              1  train"
            ]
          },
          "metadata": {
            "tags": []
          },
          "execution_count": 79
        }
      ]
    },
    {
      "cell_type": "code",
      "metadata": {
        "id": "7Ug9aZgCzJxK",
        "colab_type": "code",
        "colab": {
          "base_uri": "https://localhost:8080/",
          "height": 194
        },
        "outputId": "c03b2900-f152-4522-c937-117eb3e79cc2"
      },
      "source": [
        "# Validation dataset\n",
        "# flatten the 1-D numpy array\n",
        "myClassify = np.ndarray.flatten(bi_preds_val)\n",
        "myClassify = pd.DataFrame(myClassify)\n",
        "myClassify.reset_index(drop=True)\n",
        "myClassify.rename(columns={0: \"classify_tmpf\"}, inplace=True)\n",
        "myClassify['Type'] = 'val'\n",
        "#actual predictions\n",
        "myBiActual = pd.DataFrame(np.array(y_val_4))\n",
        "myBiActual.reset_index(drop=True)\n",
        "myBiActual.rename(columns={0: \"bi_actual_tmpf\"}, inplace=True)\n",
        "allResults5 = pd.concat([myBiActual,myClassify], axis=1)\n",
        "allResults5.head()"
      ],
      "execution_count": 80,
      "outputs": [
        {
          "output_type": "execute_result",
          "data": {
            "text/html": [
              "<div>\n",
              "<style scoped>\n",
              "    .dataframe tbody tr th:only-of-type {\n",
              "        vertical-align: middle;\n",
              "    }\n",
              "\n",
              "    .dataframe tbody tr th {\n",
              "        vertical-align: top;\n",
              "    }\n",
              "\n",
              "    .dataframe thead th {\n",
              "        text-align: right;\n",
              "    }\n",
              "</style>\n",
              "<table border=\"1\" class=\"dataframe\">\n",
              "  <thead>\n",
              "    <tr style=\"text-align: right;\">\n",
              "      <th></th>\n",
              "      <th>bi_actual_tmpf</th>\n",
              "      <th>classify_tmpf</th>\n",
              "      <th>Type</th>\n",
              "    </tr>\n",
              "  </thead>\n",
              "  <tbody>\n",
              "    <tr>\n",
              "      <th>0</th>\n",
              "      <td>1</td>\n",
              "      <td>0</td>\n",
              "      <td>val</td>\n",
              "    </tr>\n",
              "    <tr>\n",
              "      <th>1</th>\n",
              "      <td>1</td>\n",
              "      <td>0</td>\n",
              "      <td>val</td>\n",
              "    </tr>\n",
              "    <tr>\n",
              "      <th>2</th>\n",
              "      <td>1</td>\n",
              "      <td>0</td>\n",
              "      <td>val</td>\n",
              "    </tr>\n",
              "    <tr>\n",
              "      <th>3</th>\n",
              "      <td>1</td>\n",
              "      <td>0</td>\n",
              "      <td>val</td>\n",
              "    </tr>\n",
              "    <tr>\n",
              "      <th>4</th>\n",
              "      <td>1</td>\n",
              "      <td>0</td>\n",
              "      <td>val</td>\n",
              "    </tr>\n",
              "  </tbody>\n",
              "</table>\n",
              "</div>"
            ],
            "text/plain": [
              "   bi_actual_tmpf  classify_tmpf Type\n",
              "0               1              0  val\n",
              "1               1              0  val\n",
              "2               1              0  val\n",
              "3               1              0  val\n",
              "4               1              0  val"
            ]
          },
          "metadata": {
            "tags": []
          },
          "execution_count": 80
        }
      ]
    },
    {
      "cell_type": "code",
      "metadata": {
        "id": "3oLpYGES0CSB",
        "colab_type": "code",
        "colab": {
          "base_uri": "https://localhost:8080/",
          "height": 194
        },
        "outputId": "7d573e02-575b-4a84-ee09-934b4b4b6716"
      },
      "source": [
        "# Test dataset\n",
        "# flatten the 1-D numpy array\n",
        "myClassify = np.ndarray.flatten(bi_preds_test)\n",
        "myClassify = pd.DataFrame(myClassify)\n",
        "myClassify.reset_index(drop=True)\n",
        "myClassify.rename(columns={0: \"classify_tmpf\"}, inplace=True)\n",
        "myClassify['Type'] = 'test'\n",
        "#actual predictions\n",
        "myBiActual = pd.DataFrame(np.array(y_test_4))\n",
        "myBiActual.reset_index(drop=True)\n",
        "myBiActual.rename(columns={0: \"bi_actual_tmpf\"}, inplace=True)\n",
        "allResults6 = pd.concat([myBiActual,myClassify], axis=1)\n",
        "allResults6.head()"
      ],
      "execution_count": 82,
      "outputs": [
        {
          "output_type": "execute_result",
          "data": {
            "text/html": [
              "<div>\n",
              "<style scoped>\n",
              "    .dataframe tbody tr th:only-of-type {\n",
              "        vertical-align: middle;\n",
              "    }\n",
              "\n",
              "    .dataframe tbody tr th {\n",
              "        vertical-align: top;\n",
              "    }\n",
              "\n",
              "    .dataframe thead th {\n",
              "        text-align: right;\n",
              "    }\n",
              "</style>\n",
              "<table border=\"1\" class=\"dataframe\">\n",
              "  <thead>\n",
              "    <tr style=\"text-align: right;\">\n",
              "      <th></th>\n",
              "      <th>bi_actual_tmpf</th>\n",
              "      <th>classify_tmpf</th>\n",
              "      <th>Type</th>\n",
              "    </tr>\n",
              "  </thead>\n",
              "  <tbody>\n",
              "    <tr>\n",
              "      <th>0</th>\n",
              "      <td>1</td>\n",
              "      <td>1</td>\n",
              "      <td>test</td>\n",
              "    </tr>\n",
              "    <tr>\n",
              "      <th>1</th>\n",
              "      <td>1</td>\n",
              "      <td>1</td>\n",
              "      <td>test</td>\n",
              "    </tr>\n",
              "    <tr>\n",
              "      <th>2</th>\n",
              "      <td>1</td>\n",
              "      <td>1</td>\n",
              "      <td>test</td>\n",
              "    </tr>\n",
              "    <tr>\n",
              "      <th>3</th>\n",
              "      <td>1</td>\n",
              "      <td>1</td>\n",
              "      <td>test</td>\n",
              "    </tr>\n",
              "    <tr>\n",
              "      <th>4</th>\n",
              "      <td>1</td>\n",
              "      <td>1</td>\n",
              "      <td>test</td>\n",
              "    </tr>\n",
              "  </tbody>\n",
              "</table>\n",
              "</div>"
            ],
            "text/plain": [
              "   bi_actual_tmpf  classify_tmpf  Type\n",
              "0               1              1  test\n",
              "1               1              1  test\n",
              "2               1              1  test\n",
              "3               1              1  test\n",
              "4               1              1  test"
            ]
          },
          "metadata": {
            "tags": []
          },
          "execution_count": 82
        }
      ]
    },
    {
      "cell_type": "code",
      "metadata": {
        "id": "3IoW4oHr0QSQ",
        "colab_type": "code",
        "colab": {
          "base_uri": "https://localhost:8080/",
          "height": 164
        },
        "outputId": "9a8369c3-94cf-4811-9936-f9dc7bf3316b"
      },
      "source": [
        "# combine all three datasets\n",
        "allClassifyResults = pd.concat([allResults4,allResults5,allResults6], axis=0)\n",
        "allClassifyResults.groupby(\"Type\").count()"
      ],
      "execution_count": 83,
      "outputs": [
        {
          "output_type": "execute_result",
          "data": {
            "text/html": [
              "<div>\n",
              "<style scoped>\n",
              "    .dataframe tbody tr th:only-of-type {\n",
              "        vertical-align: middle;\n",
              "    }\n",
              "\n",
              "    .dataframe tbody tr th {\n",
              "        vertical-align: top;\n",
              "    }\n",
              "\n",
              "    .dataframe thead th {\n",
              "        text-align: right;\n",
              "    }\n",
              "</style>\n",
              "<table border=\"1\" class=\"dataframe\">\n",
              "  <thead>\n",
              "    <tr style=\"text-align: right;\">\n",
              "      <th></th>\n",
              "      <th>bi_actual_tmpf</th>\n",
              "      <th>classify_tmpf</th>\n",
              "    </tr>\n",
              "    <tr>\n",
              "      <th>Type</th>\n",
              "      <th></th>\n",
              "      <th></th>\n",
              "    </tr>\n",
              "  </thead>\n",
              "  <tbody>\n",
              "    <tr>\n",
              "      <th>test</th>\n",
              "      <td>744</td>\n",
              "      <td>744</td>\n",
              "    </tr>\n",
              "    <tr>\n",
              "      <th>train</th>\n",
              "      <td>6511</td>\n",
              "      <td>6511</td>\n",
              "    </tr>\n",
              "    <tr>\n",
              "      <th>val</th>\n",
              "      <td>1464</td>\n",
              "      <td>1464</td>\n",
              "    </tr>\n",
              "  </tbody>\n",
              "</table>\n",
              "</div>"
            ],
            "text/plain": [
              "       bi_actual_tmpf  classify_tmpf\n",
              "Type                                \n",
              "test              744            744\n",
              "train            6511           6511\n",
              "val              1464           1464"
            ]
          },
          "metadata": {
            "tags": []
          },
          "execution_count": 83
        }
      ]
    },
    {
      "cell_type": "markdown",
      "metadata": {
        "id": "GUk8rYYaCxfd",
        "colab_type": "text"
      },
      "source": [
        "## -End-"
      ]
    }
  ]
}